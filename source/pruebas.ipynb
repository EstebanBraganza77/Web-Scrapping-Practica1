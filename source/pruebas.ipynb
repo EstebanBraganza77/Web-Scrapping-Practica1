{
 "cells": [
  {
   "cell_type": "code",
   "execution_count": 2,
   "metadata": {},
   "outputs": [],
   "source": [
    "import numpy as np \n",
    "import pandas as p\n",
    "import requests\n",
    "from bs4 import BeautifulSoup"
   ]
  },
  {
   "cell_type": "code",
   "execution_count": null,
   "metadata": {},
   "outputs": [],
   "source": [
    "url1 = \"https://www.plusvalia.com\"\n",
    "url2 = \"https://www.deviantart.com\"\n",
    "url3 = \"https://store.steampowered.com\""
   ]
  },
  {
   "cell_type": "markdown",
   "metadata": {},
   "source": [
    "# Posibilidades con devianrt\n",
    "\n",
    "1. Búsqueda por palabra, por ejemplo \"sky\" (240k resultados):\n",
    "    https://www.deviantart.com/search?q=sky&cursor=MTQwYWI2MjA9NCY1OTBhY2FkMD03MiZkMTc0YjZiYz1OJTJGQSY3ODAwOTk4MiU1QjAlNUQ9NjAxNzM0MzgxJjc4MDA5OTgyJTVCMSU1RD05Njg3OTExNjYmNzgwMDk5ODIlNUIyJTVEPTg4Mzg5NTgwNCY3ODAwOTk4MiU1QjMlNUQ9ODg2NjA2Nzk4Jjc4MDA5OTgyJTVCNCU1RD02OTcxNDU0NzQ\n",
    "\n",
    "2. iterar por las páginas a partir del botón next\n",
    "\n",
    "3. de cada imagen sacar:\n",
    "    - enlace de la imagen\n",
    "    - título\n",
    "    - autor\n",
    "    - num. favoritos\n",
    "    - num. comentarios\n",
    "    - num. views\n",
    "    - tags\n",
    "    - fecha de publicación\n",
    "    - tamaño de la imagen\n",
    "\n",
    "NO necesario autenticarse\n",
    "\n",
    "4. Términos de uso: https://www.deviantart.com/about/policy/service \n",
    "    Hay sección de scraping y IAs pero no se menciona nada de limitaciones a la hora de hacer scraping."
   ]
  },
  {
   "cell_type": "markdown",
   "metadata": {},
   "source": [
    "# Posibilidades con steam\n",
    "\n",
    "1. búsqueda de juegos por género, ejemplo \"free to play\"\n",
    "    https://store.steampowered.com/genre/Free%20to%20Play/\n",
    "\n",
    "    Es necesario selenium para paginar contenido.\n",
    "\n",
    "2. de cada juego, en su página, extraer:\n",
    "    - título\n",
    "    - requisitos del sistema, mínimo y recomendado\n",
    "    - desarrollador\n",
    "    - género\n",
    "    - editor\n",
    "    - fecha de lanzamiento\n",
    "    - link al vídeo\n",
    "    - link a las imágenes\n",
    "\n",
    "3. Acuerdo de privacidad: https://store.steampowered.com/privacy_agreement/?snr=1_44_44_\n",
    "    Informacion legal: https://store.steampowered.com/legal/?snr=1_44_44_\n",
    "    Sin menciones a scraping."
   ]
  },
  {
   "cell_type": "markdown",
   "metadata": {},
   "source": [
    "**Conclusiones**:\n",
    "Ambas se pueden scrapear y dependiendo de lo que queramos sacar puede ser más sencillo o más complejo. La de deviantart me parece una página más agradable y limpia, pero ambas me parecen buena opción. No he hecho la revisión de plusvalia.com pero, por encima, parece muy similar a idealista o fotocasa."
   ]
  }
 ],
 "metadata": {
  "kernelspec": {
   "display_name": ".venv",
   "language": "python",
   "name": "python3"
  },
  "language_info": {
   "codemirror_mode": {
    "name": "ipython",
    "version": 3
   },
   "file_extension": ".py",
   "mimetype": "text/x-python",
   "name": "python",
   "nbconvert_exporter": "python",
   "pygments_lexer": "ipython3",
   "version": "3.11.2"
  }
 },
 "nbformat": 4,
 "nbformat_minor": 2
}
